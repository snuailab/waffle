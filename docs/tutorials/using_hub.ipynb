{
 "cells": [
  {
   "attachments": {},
   "cell_type": "markdown",
   "metadata": {},
   "source": [
    "## Hub\n",
    "Hub provides same interface for several backends. Let see how it works."
   ]
  },
  {
   "attachments": {},
   "cell_type": "markdown",
   "metadata": {},
   "source": [
    "## Create Ultralytics Hub\n",
    "\n",
    "<img src=\"https://raw.githubusercontent.com/ultralytics/assets/main/yolov8/banner-yolov8.png\" />"
   ]
  },
  {
   "cell_type": "code",
   "execution_count": null,
   "metadata": {},
   "outputs": [],
   "source": [
    "from waffle_hub.hub.adapter.ultralytics import UltralyticsHub\n",
    "from waffle_hub import TaskType"
   ]
  },
  {
   "attachments": {},
   "cell_type": "markdown",
   "metadata": {},
   "source": [
    "See what tasks, models are available in UltralyticsHub."
   ]
  },
  {
   "cell_type": "code",
   "execution_count": 2,
   "metadata": {},
   "outputs": [
    {
     "data": {
      "text/plain": [
       "{'object_detection': {'yolov8': ['n', 's', 'm', 'l', 'x']},\n",
       " 'classification': {'yolov8': ['n', 's', 'm', 'l', 'x']},\n",
       " 'instance_segmentation': {'yolov8': ['n', 's', 'm', 'l', 'x']}}"
      ]
     },
     "execution_count": 2,
     "metadata": {},
     "output_type": "execute_result"
    }
   ],
   "source": [
    "UltralyticsHub.MODEL_TYPES"
   ]
  },
  {
   "attachments": {},
   "cell_type": "markdown",
   "metadata": {},
   "source": [
    "By calling `UltralyticsHub.new()` method you can simply create an Ultralytics instance."
   ]
  },
  {
   "cell_type": "code",
   "execution_count": 3,
   "metadata": {},
   "outputs": [],
   "source": [
    "ultralytics_hub = UltralyticsHub.new(\n",
    "    name=\"ultralytics_mnist_detection\",\n",
    "    task=TaskType.OBJECT_DETECTION,\n",
    "    model_type=\"yolov8\",\n",
    "    model_size=\"n\",\n",
    "    categories=[\"1\", \"2\"]\n",
    ")"
   ]
  },
  {
   "attachments": {},
   "cell_type": "markdown",
   "metadata": {},
   "source": [
    "`Hub` instance provides several useful properties and methods. See [Hub Documentation](https://research.snuailab.ai/waffle/waffle_hub/hub/hub/) for more details."
   ]
  },
  {
   "cell_type": "code",
   "execution_count": 4,
   "metadata": {},
   "outputs": [
    {
     "data": {
      "text/plain": [
       "[{'supercategory': 'object', 'name': '1'},\n",
       " {'supercategory': 'object', 'name': '2'}]"
      ]
     },
     "execution_count": 4,
     "metadata": {},
     "output_type": "execute_result"
    }
   ],
   "source": [
    "ultralytics_hub.categories"
   ]
  },
  {
   "attachments": {},
   "cell_type": "markdown",
   "metadata": {},
   "source": [
    "## Create Huggingface Hub \n",
    "As you did in Ultralytics Hub, you can create Huggingface Hub instance with exactly same way.\n",
    "\n",
    "<img src=\"https://huggingface.co/datasets/huggingface/brand-assets/resolve/main/hf-logo-with-title.png\" />"
   ]
  },
  {
   "cell_type": "code",
   "execution_count": 5,
   "metadata": {},
   "outputs": [
    {
     "name": "stderr",
     "output_type": "stream",
     "text": [
      "/home/lhj/anaconda3/envs/waffle/lib/python3.9/site-packages/waffle_hub/__init__.py:56: UserWarning: \n",
      "                transformers 4.28.1 has not been tested.\n",
      "                We recommend you to use one of ['4.27.4']\n",
      "                \n",
      "  warnings.warn(\n"
     ]
    }
   ],
   "source": [
    "from waffle_hub.hub.adapter.hugging_face import HuggingFaceHub\n",
    "from waffle_hub import TaskType"
   ]
  },
  {
   "cell_type": "code",
   "execution_count": 6,
   "metadata": {},
   "outputs": [
    {
     "data": {
      "text/plain": [
       "{'object_detection': {'DETA': {'base': 'jozhang97/deta-resnet-50'},\n",
       "  'DETR': {'base': 'facebook/detr-resnet-50',\n",
       "   'large': 'facebook/detr-resnet-101'},\n",
       "  'YOLOS': {'tiny': 'hustvl/yolos-tiny'}},\n",
       " 'classification': {'ViT': {'tiny': 'WinKawaks/vit-tiny-patch16-224',\n",
       "   'base': 'google/vit-base-patch16-224'}}}"
      ]
     },
     "execution_count": 6,
     "metadata": {},
     "output_type": "execute_result"
    }
   ],
   "source": [
    "HuggingFaceHub.MODEL_TYPES"
   ]
  },
  {
   "cell_type": "code",
   "execution_count": 7,
   "metadata": {},
   "outputs": [],
   "source": [
    "huggingface_hub = HuggingFaceHub.new(\n",
    "    name=\"huggingface_mnist_detection\",\n",
    "    task=TaskType.OBJECT_DETECTION,\n",
    "    model_type=\"DETR\",\n",
    "    model_size=\"base\",\n",
    "    categories=[\"1\", \"2\"]\n",
    ")"
   ]
  },
  {
   "attachments": {},
   "cell_type": "markdown",
   "metadata": {},
   "source": [
    "## Create Tx Model Hub\n",
    "Tx Model is a private deep learning framework of SNUAILAB. You can use it by asking our team! <br/>\n",
    "You can also create Tx Model Hub instance with exactly same way.\n",
    "\n",
    "<img src=\"https://github.com/snuailab/assets/blob/main/snuailab/full/snuAiLab.color.300ppi.png?raw=true\" />"
   ]
  },
  {
   "cell_type": "code",
   "execution_count": 8,
   "metadata": {},
   "outputs": [],
   "source": [
    "from waffle_hub.hub.adapter.tx_model import TxModelHub\n",
    "from waffle_hub import TaskType"
   ]
  },
  {
   "cell_type": "code",
   "execution_count": 9,
   "metadata": {},
   "outputs": [
    {
     "data": {
      "text/plain": [
       "{'object_detection': {'YOLOv5': ['s', 'm', 'l']},\n",
       " 'classification': {'Classifier': ['s', 'm', 'l']}}"
      ]
     },
     "execution_count": 9,
     "metadata": {},
     "output_type": "execute_result"
    }
   ],
   "source": [
    "TxModelHub.MODEL_TYPES"
   ]
  },
  {
   "cell_type": "code",
   "execution_count": 10,
   "metadata": {},
   "outputs": [],
   "source": [
    "tx_model_hub = TxModelHub.new(\n",
    "    name=\"tx_model_mnist_detection\",\n",
    "    task=TaskType.OBJECT_DETECTION,\n",
    "    model_type=\"YOLOv5\",\n",
    "    model_size=\"s\",\n",
    "    categories=[\"1\", \"2\"]\n",
    ")"
   ]
  },
  {
   "attachments": {},
   "cell_type": "markdown",
   "metadata": {},
   "source": [
    "## Train"
   ]
  },
  {
   "attachments": {},
   "cell_type": "markdown",
   "metadata": {},
   "source": [
    "### Load Dataset"
   ]
  },
  {
   "cell_type": "code",
   "execution_count": 11,
   "metadata": {},
   "outputs": [],
   "source": [
    "from waffle_hub.dataset import Dataset\n",
    "from waffle_hub import DataType\n",
    "\n",
    "dataset = Dataset.load(\"mnist_det\")"
   ]
  },
  {
   "attachments": {},
   "cell_type": "markdown",
   "metadata": {},
   "source": [
    "### Ultralytics"
   ]
  },
  {
   "cell_type": "code",
   "execution_count": null,
   "metadata": {},
   "outputs": [],
   "source": [
    "dataset_dir = dataset.export(DataType.YOLO)\n",
    "train_result = ultralytics_hub.train(\n",
    "    dataset_dir,\n",
    "    image_size=320,\n",
    "    epochs=50,\n",
    "    batch_size=16\n",
    ")\n",
    "train_result"
   ]
  },
  {
   "attachments": {},
   "cell_type": "markdown",
   "metadata": {},
   "source": [
    "### Huggingface"
   ]
  },
  {
   "cell_type": "code",
   "execution_count": 13,
   "metadata": {},
   "outputs": [],
   "source": [
    "import torch\n",
    "torch.use_deterministic_algorithms(False)"
   ]
  },
  {
   "cell_type": "code",
   "execution_count": null,
   "metadata": {},
   "outputs": [],
   "source": [
    "dataset_dir = dataset.export(DataType.HUGGINGFACE)\n",
    "train_result = huggingface_hub.train(\n",
    "    dataset_dir,\n",
    "    image_size=320,\n",
    "    epochs=50,\n",
    "    batch_size=16\n",
    ")\n",
    "train_result"
   ]
  },
  {
   "attachments": {},
   "cell_type": "markdown",
   "metadata": {},
   "source": [
    "### Tx Model"
   ]
  },
  {
   "cell_type": "code",
   "execution_count": null,
   "metadata": {},
   "outputs": [],
   "source": [
    "dataset_dir = dataset.export(DataType.TX_MODEL)\n",
    "train_result = tx_model_hub.train(\n",
    "    dataset_dir,\n",
    "    image_size=320,\n",
    "    epochs=50,\n",
    "    batch_size=16,\n",
    "    pretrained_model=\"base_models/detectors/small/model.pth\"\n",
    ")\n",
    "train_result"
   ]
  },
  {
   "attachments": {},
   "cell_type": "markdown",
   "metadata": {},
   "source": [
    "## Evaluate"
   ]
  },
  {
   "cell_type": "code",
   "execution_count": 16,
   "metadata": {},
   "outputs": [
    {
     "name": "stderr",
     "output_type": "stream",
     "text": [
      "100%|██████████| 3/3 [00:00<00:00, 25.25it/s]\n"
     ]
    },
    {
     "data": {
      "text/plain": [
       "EvaluateResult(metrics=[{'tag': 'mAP', 'value': 0.8066571950912476}])"
      ]
     },
     "execution_count": 16,
     "metadata": {},
     "output_type": "execute_result"
    }
   ],
   "source": [
    "ultralytics_hub = UltralyticsHub.load(\"ultralytics_mnist_detection\")\n",
    "ultralytics_hub.evaluate(\"mnist_det\", set_name=\"test\")"
   ]
  },
  {
   "cell_type": "code",
   "execution_count": 17,
   "metadata": {},
   "outputs": [
    {
     "name": "stderr",
     "output_type": "stream",
     "text": [
      "100%|██████████| 3/3 [00:00<00:00, 21.73it/s]\n"
     ]
    },
    {
     "data": {
      "text/plain": [
       "EvaluateResult(metrics=[{'tag': 'mAP', 'value': 0.18526874482631683}])"
      ]
     },
     "execution_count": 17,
     "metadata": {},
     "output_type": "execute_result"
    }
   ],
   "source": [
    "huggingface_hub = HuggingFaceHub.load(\"huggingface_mnist_detection\")\n",
    "huggingface_hub.evaluate(\"mnist_det\", set_name=\"test\")"
   ]
  },
  {
   "cell_type": "code",
   "execution_count": 25,
   "metadata": {},
   "outputs": [
    {
     "name": "stderr",
     "output_type": "stream",
     "text": [
      "100%|██████████| 3/3 [00:00<00:00, 25.43it/s]\n"
     ]
    },
    {
     "data": {
      "text/plain": [
       "EvaluateResult(metrics=[{'tag': 'mAP', 'value': 0.1792079210281372}])"
      ]
     },
     "execution_count": 25,
     "metadata": {},
     "output_type": "execute_result"
    }
   ],
   "source": [
    "tx_model_hub = TxModelHub.load(\"tx_model_mnist_detection\")\n",
    "tx_model_hub.evaluate(\"mnist_det\", set_name=\"test\")"
   ]
  },
  {
   "attachments": {},
   "cell_type": "markdown",
   "metadata": {},
   "source": [
    "## Inference"
   ]
  },
  {
   "cell_type": "code",
   "execution_count": 18,
   "metadata": {},
   "outputs": [],
   "source": [
    "import PIL.Image"
   ]
  },
  {
   "cell_type": "code",
   "execution_count": 19,
   "metadata": {},
   "outputs": [
    {
     "name": "stderr",
     "output_type": "stream",
     "text": [
      "100%|██████████| 25/25 [00:00<00:00, 54.73it/s]\n"
     ]
    },
    {
     "data": {
      "image/png": "[encoded data removed]",
      "text/plain": [
       "<PIL.PngImagePlugin.PngImageFile image mode=RGB size=300x300>"
      ]
     },
     "execution_count": 19,
     "metadata": {},
     "output_type": "execute_result"
    }
   ],
   "source": [
    "ultralytics_hub = UltralyticsHub.load(\"ultralytics_mnist_detection\")\n",
    "ultralytics_hub.inference(\"mnist/images\", draw=True)\n",
    "PIL.Image.open(ultralytics_hub.draw_dir / \"1.png\")"
   ]
  },
  {
   "cell_type": "code",
   "execution_count": 20,
   "metadata": {},
   "outputs": [
    {
     "name": "stderr",
     "output_type": "stream",
     "text": [
      "100%|██████████| 25/25 [00:00<00:00, 42.81it/s]\n"
     ]
    },
    {
     "data": {
      "image/png": "[encoded data removed]",
      "text/plain": [
       "<PIL.PngImagePlugin.PngImageFile image mode=RGB size=300x300>"
      ]
     },
     "execution_count": 20,
     "metadata": {},
     "output_type": "execute_result"
    }
   ],
   "source": [
    "huggingface_hub = HuggingFaceHub.load(\"huggingface_mnist_detection\")\n",
    "huggingface_hub.inference(\"mnist/images\", draw=True)\n",
    "PIL.Image.open(huggingface_hub.draw_dir / \"1.png\")"
   ]
  },
  {
   "cell_type": "code",
   "execution_count": 21,
   "metadata": {},
   "outputs": [
    {
     "name": "stderr",
     "output_type": "stream",
     "text": [
      "100%|██████████| 25/25 [00:00<00:00, 62.38it/s]\n"
     ]
    },
    {
     "data": {
      "image/png": "[encoded data removed]",
      "text/plain": [
       "<PIL.PngImagePlugin.PngImageFile image mode=RGB size=300x300>"
      ]
     },
     "execution_count": 21,
     "metadata": {},
     "output_type": "execute_result"
    }
   ],
   "source": [
    "tx_model_hub = TxModelHub.load(\"tx_model_mnist_detection\")\n",
    "tx_model_hub.inference(\"mnist/images\", draw=True)\n",
    "PIL.Image.open(tx_model_hub.draw_dir / \"1.png\")"
   ]
  },
  {
   "attachments": {},
   "cell_type": "markdown",
   "metadata": {},
   "source": [
    "## Export to onnx"
   ]
  },
  {
   "cell_type": "code",
   "execution_count": 22,
   "metadata": {},
   "outputs": [
    {
     "name": "stderr",
     "output_type": "stream",
     "text": [
      "/home/lhj/anaconda3/envs/waffle/lib/python3.9/site-packages/ultralytics/nn/modules.py:474: TracerWarning: Converting a tensor to a Python boolean might cause the trace to be incorrect. We can't record the data flow of Python values, so this value will be treated as a constant in the future. This means that the trace might not generalize to other inputs!\n",
      "  elif self.dynamic or self.shape != shape:\n",
      "/home/lhj/anaconda3/envs/waffle/lib/python3.9/site-packages/ultralytics/yolo/utils/tal.py:241: TracerWarning: Iterating over a tensor might cause the trace to be incorrect. Passing a tensor of different shape won't change the number of iterations executed (and might lead to errors or silently give incorrect results).\n",
      "  for i, stride in enumerate(strides):\n",
      "/home/lhj/anaconda3/envs/waffle/lib/python3.9/site-packages/torch/onnx/utils.py:617: UserWarning: ONNX Preprocess - Removing mutation from node aten::sub_ on block input: 'tensor.1'. This changes graph semantics. (Triggered internally at ../torch/csrc/jit/passes/onnx/remove_inplace_ops_for_onnx.cpp:335.)\n",
      "  _C._jit_pass_onnx_remove_inplace_ops_for_onnx(graph, module)\n"
     ]
    },
    {
     "data": {
      "text/plain": [
       "ExportResult(export_file=PosixPath('hubs/ultralytics_mnist_detection/weights/model.onnx'))"
      ]
     },
     "execution_count": 22,
     "metadata": {},
     "output_type": "execute_result"
    }
   ],
   "source": [
    "ultralytics_hub.export()"
   ]
  },
  {
   "cell_type": "code",
   "execution_count": 23,
   "metadata": {},
   "outputs": [
    {
     "name": "stderr",
     "output_type": "stream",
     "text": [
      "/home/lhj/anaconda3/envs/waffle/lib/python3.9/site-packages/transformers/models/detr/modeling_detr.py:575: TracerWarning: Converting a tensor to a Python boolean might cause the trace to be incorrect. We can't record the data flow of Python values, so this value will be treated as a constant in the future. This means that the trace might not generalize to other inputs!\n",
      "  if attn_weights.size() != (batch_size * self.num_heads, target_len, source_len):\n",
      "/home/lhj/anaconda3/envs/waffle/lib/python3.9/site-packages/transformers/models/detr/modeling_detr.py:582: TracerWarning: Converting a tensor to a Python boolean might cause the trace to be incorrect. We can't record the data flow of Python values, so this value will be treated as a constant in the future. This means that the trace might not generalize to other inputs!\n",
      "  if attention_mask.size() != (batch_size, 1, target_len, source_len):\n",
      "/home/lhj/anaconda3/envs/waffle/lib/python3.9/site-packages/transformers/models/detr/modeling_detr.py:606: TracerWarning: Converting a tensor to a Python boolean might cause the trace to be incorrect. We can't record the data flow of Python values, so this value will be treated as a constant in the future. This means that the trace might not generalize to other inputs!\n",
      "  if attn_output.size() != (batch_size * self.num_heads, target_len, self.head_dim):\n",
      "/home/lhj/anaconda3/envs/waffle/lib/python3.9/site-packages/transformers/models/detr/image_processing_detr.py:1567: TracerWarning: Iterating over a tensor might cause the trace to be incorrect. Passing a tensor of different shape won't change the number of iterations executed (and might lead to errors or silently give incorrect results).\n",
      "  for s, l, b in zip(scores, labels, boxes):\n"
     ]
    },
    {
     "data": {
      "text/plain": [
       "ExportResult(export_file=PosixPath('hubs/huggingface_mnist_detection/weights/model.onnx'))"
      ]
     },
     "execution_count": 23,
     "metadata": {},
     "output_type": "execute_result"
    }
   ],
   "source": [
    "huggingface_hub.export()"
   ]
  },
  {
   "cell_type": "code",
   "execution_count": 26,
   "metadata": {},
   "outputs": [
    {
     "name": "stderr",
     "output_type": "stream",
     "text": [
      "/home/lhj/anaconda3/envs/waffle/lib/python3.9/site-packages/torch/onnx/utils.py:617: UserWarning: ONNX Preprocess - Removing mutation from node aten::sub_ on block input: 'tensor.1'. This changes graph semantics. (Triggered internally at ../torch/csrc/jit/passes/onnx/remove_inplace_ops_for_onnx.cpp:335.)\n",
      "  _C._jit_pass_onnx_remove_inplace_ops_for_onnx(graph, module)\n"
     ]
    },
    {
     "data": {
      "text/plain": [
       "ExportResult(export_file=PosixPath('hubs/tx_model_mnist_detection/weights/model.onnx'))"
      ]
     },
     "execution_count": 26,
     "metadata": {},
     "output_type": "execute_result"
    }
   ],
   "source": [
    "tx_model_hub.export(device=\"cpu\")"
   ]
  },
  {
   "attachments": {},
   "cell_type": "markdown",
   "metadata": {},
   "source": [
    "## Benchmark"
   ]
  },
  {
   "cell_type": "code",
   "execution_count": 27,
   "metadata": {},
   "outputs": [
    {
     "name": "stderr",
     "output_type": "stream",
     "text": [
      "100%|██████████| 100/100 [00:01<00:00, 97.22it/s]\n"
     ]
    },
    {
     "data": {
      "text/plain": [
       "{'inference_time': 1.0294418334960938,\n",
       " 'fps': 1554.2403154204742,\n",
       " 'image_size': [320, 320],\n",
       " 'batch_size': 16,\n",
       " 'precision': 'fp32',\n",
       " 'device': 'cuda:0',\n",
       " 'cpu_name': '13th Gen Intel(R) Core(TM) i9-13900KF',\n",
       " 'gpu_name': 'NVIDIA GeForce RTX 4090'}"
      ]
     },
     "execution_count": 27,
     "metadata": {},
     "output_type": "execute_result"
    }
   ],
   "source": [
    "ultralytics_hub.benchmark(image_size=320, batch_size=16)"
   ]
  },
  {
   "cell_type": "code",
   "execution_count": 28,
   "metadata": {},
   "outputs": [
    {
     "name": "stderr",
     "output_type": "stream",
     "text": [
      "100%|██████████| 100/100 [00:02<00:00, 42.96it/s]\n"
     ]
    },
    {
     "data": {
      "text/plain": [
       "{'inference_time': 2.328606128692627,\n",
       " 'fps': 687.1063252325563,\n",
       " 'image_size': [320, 320],\n",
       " 'batch_size': 16,\n",
       " 'precision': 'fp32',\n",
       " 'device': 'cuda:0',\n",
       " 'cpu_name': '13th Gen Intel(R) Core(TM) i9-13900KF',\n",
       " 'gpu_name': 'NVIDIA GeForce RTX 4090'}"
      ]
     },
     "execution_count": 28,
     "metadata": {},
     "output_type": "execute_result"
    }
   ],
   "source": [
    "huggingface_hub.benchmark(image_size=320, batch_size=16)"
   ]
  },
  {
   "cell_type": "code",
   "execution_count": 29,
   "metadata": {},
   "outputs": [
    {
     "name": "stderr",
     "output_type": "stream",
     "text": [
      "100%|██████████| 100/100 [00:00<00:00, 113.23it/s]\n"
     ]
    },
    {
     "data": {
      "text/plain": [
       "{'inference_time': 0.8841898441314697,\n",
       " 'fps': 1809.5661362992278,\n",
       " 'image_size': [320, 320],\n",
       " 'batch_size': 16,\n",
       " 'precision': 'fp32',\n",
       " 'device': 'cuda:0',\n",
       " 'cpu_name': '13th Gen Intel(R) Core(TM) i9-13900KF',\n",
       " 'gpu_name': 'NVIDIA GeForce RTX 4090'}"
      ]
     },
     "execution_count": 29,
     "metadata": {},
     "output_type": "execute_result"
    }
   ],
   "source": [
    "tx_model_hub.benchmark(image_size=320, batch_size=16)"
   ]
  },
  {
   "cell_type": "code",
   "execution_count": null,
   "metadata": {},
   "outputs": [],
   "source": []
  }
 ],
 "metadata": {
  "kernelspec": {
   "display_name": "waffle",
   "language": "python",
   "name": "python3"
  },
  "language_info": {
   "codemirror_mode": {
    "name": "ipython",
    "version": 3
   },
   "file_extension": ".py",
   "mimetype": "text/x-python",
   "name": "python",
   "nbconvert_exporter": "python",
   "pygments_lexer": "ipython3",
   "version": "3.9.16"
  },
  "orig_nbformat": 4
 },
 "nbformat": 4,
 "nbformat_minor": 2
}
