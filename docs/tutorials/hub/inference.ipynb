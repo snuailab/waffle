{
 "cells": [
  {
   "attachments": {},
   "cell_type": "markdown",
   "metadata": {},
   "source": [
    "## Inference\n",
    "You can simply inference a hub by calling `inference` method of `Hub` class."
   ]
  },
  {
   "attachments": {},
   "cell_type": "markdown",
   "metadata": {},
   "source": [
    "### Load trained hub"
   ]
  },
  {
   "cell_type": "code",
   "execution_count": 1,
   "metadata": {},
   "outputs": [
    {
     "name": "stderr",
     "output_type": "stream",
     "text": [
      "/home/lhj/anaconda3/envs/waffle/lib/python3.9/site-packages/tqdm/auto.py:21: TqdmWarning: IProgress not found. Please update jupyter and ipywidgets. See https://ipywidgets.readthedocs.io/en/stable/user_install.html\n",
      "  from .autonotebook import tqdm as notebook_tqdm\n"
     ]
    }
   ],
   "source": [
    "from waffle_hub.hub import Hub\n",
    "\n",
    "hub = Hub.load(\"detector\")"
   ]
  },
  {
   "cell_type": "code",
   "execution_count": 2,
   "metadata": {},
   "outputs": [
    {
     "name": "stderr",
     "output_type": "stream",
     "text": [
      "100%|██████████| 25/25 [00:01<00:00, 21.83it/s]\n"
     ]
    },
    {
     "data": {
      "text/plain": [
       "InferenceResult(predictions=[{'64.png': [{'category_id': 1, 'bbox': [15.699748992919922, 221.29031372070312, 30.880027770996094, 41.581939697265625], 'area': 1284.0514526234474, 'iscrowd': 0, 'score': 0.28791025280952454}]}, {'16.png': [{'category_id': 2, 'bbox': [217.4972381591797, 117.44782257080078, 37.26664733886719, 38.72087860107422], 'area': 1442.997327477322, 'iscrowd': 0, 'score': 0.26117798686027527}]}, {'57.png': []}, {'49.png': [{'category_id': 1, 'bbox': [204.57733154296875, 40.964134216308594, 25.1239013671875, 45.170310974121094], 'area': 1134.8544376390055, 'iscrowd': 0, 'score': 0.3347718417644501}]}, {'12.png': [{'category_id': 2, 'bbox': [115.34486389160156, 154.91452026367188, 46.30793762207031, 47.6512451171875], 'area': 2206.6308865007013, 'iscrowd': 0, 'score': 0.3162873685359955}]}, {'1.png': []}, {'62.png': []}, {'25.png': []}, {'31.png': [{'category_id': 2, 'bbox': [239.40914916992188, 101.19197082519531, 38.38958740234375, 36.43768310546875], 'area': 1398.8276203162968, 'iscrowd': 0, 'score': 0.4278999865055084}]}, {'75.png': []}, {'28.png': []}, {'68.png': [{'category_id': 2, 'bbox': [55.332733154296875, 210.92510986328125, 30.071205139160156, 43.10931396484375], 'area': 1296.349023645278, 'iscrowd': 0, 'score': 0.2601146996021271}]}, {'78.png': []}, {'21.png': []}, {'24.png': []}, {'48.png': []}, {'66.png': []}, {'29.png': []}, {'17.png': []}, {'72.png': []}, {'26.png': []}, {'83.png': [{'category_id': 2, 'bbox': [167.5634765625, 163.506591796875, 50.10844421386719, 39.64286804199219], 'area': 1986.4424417598639, 'iscrowd': 0, 'score': 0.5714513659477234}]}, {'34.png': []}, {'74.png': [{'category_id': 1, 'bbox': [37.420570373535156, 89.76423645019531, 27.22539520263672, 48.70039367675781], 'area': 1325.8874643737217, 'iscrowd': 0, 'score': 0.2839807868003845}]}, {'81.png': []}, {'53.png': []}, {'86.png': [{'category_id': 2, 'bbox': [195.80435180664062, 130.57034301757812, 43.819427490234375, 43.37945556640625], 'area': 1900.8629077579826, 'iscrowd': 0, 'score': 0.4105566143989563}]}, {'100.png': []}, {'13.png': []}, {'93.png': []}, {'50.png': []}, {'46.png': [{'category_id': 2, 'bbox': [123.13134765625, 160.3269805908203, 37.01921081542969, 36.95628356933594], 'area': 1368.0924524080474, 'iscrowd': 0, 'score': 0.254962682723999}]}, {'87.png': []}, {'99.png': []}, {'70.png': []}, {'23.png': []}, {'39.png': []}, {'82.png': [{'category_id': 2, 'bbox': [211.895263671875, 78.58123779296875, 50.189361572265625, 49.73396301269531], 'area': 2496.11585206585, 'iscrowd': 0, 'score': 0.27707433700561523}]}, {'76.png': []}, {'89.png': [{'category_id': 2, 'bbox': [178.29513549804688, 89.27041625976562, 51.0772705078125, 51.00230407714844], 'area': 2605.058481870219, 'iscrowd': 0, 'score': 0.30976563692092896}]}, {'43.png': []}, {'90.png': []}, {'3.png': []}, {'73.png': []}, {'79.png': [{'category_id': 2, 'bbox': [18.207271575927734, 148.6448516845703, 40.750587463378906, 31.612564086914062], 'area': 1288.2305577654624, 'iscrowd': 0, 'score': 0.2868784964084625}]}, {'19.png': [{'category_id': 1, 'bbox': [60.22168731689453, 132.01463317871094, 30.809982299804688, 42.731201171875], 'area': 1316.547551754862, 'iscrowd': 0, 'score': 0.2698998749256134}]}, {'37.png': []}, {'59.png': []}, {'55.png': []}, {'51.png': [{'category_id': 2, 'bbox': [189.66282653808594, 138.12823486328125, 40.666748046875, 37.56011962890625], 'area': 1527.4479215592146, 'iscrowd': 0, 'score': 0.27740681171417236}]}, {'84.png': []}, {'35.png': []}, {'22.png': []}, {'27.png': []}, {'32.png': [{'category_id': 2, 'bbox': [13.526335716247559, 170.05580139160156, 41.24719715118408, 50.27195739746094], 'area': 2073.5773379489983, 'iscrowd': 0, 'score': 0.2735309898853302}]}, {'56.png': []}, {'10.png': [{'category_id': 2, 'bbox': [73.55338287353516, 149.84918212890625, 40.37998962402344, 40.407684326171875], 'area': 1631.6618738216348, 'iscrowd': 0, 'score': 0.2940123975276947}]}, {'33.png': [{'category_id': 2, 'bbox': [146.58322143554688, 50.57087707519531, 51.0399169921875, 50.615455627441406], 'area': 2583.408653746359, 'iscrowd': 0, 'score': 0.3443734347820282}]}, {'97.png': []}, {'9.png': []}, {'36.png': []}, {'52.png': [{'category_id': 1, 'bbox': [56.94493865966797, 126.25347900390625, 30.93561553955078, 46.59068298339844], 'area': 1441.3114564995049, 'iscrowd': 0, 'score': 0.2802749574184418}]}, {'77.png': []}, {'42.png': [{'category_id': 2, 'bbox': [22.972209930419922, 153.0837860107422, 51.191097259521484, 49.96095275878906], 'area': 2557.555991853529, 'iscrowd': 0, 'score': 0.4557249844074249}]}, {'58.png': []}, {'20.png': []}, {'98.png': []}, {'45.png': []}, {'95.png': [{'category_id': 2, 'bbox': [135.7186279296875, 185.03683471679688, 48.518463134765625, 49.50962829589844], 'area': 2402.1310752904974, 'iscrowd': 0, 'score': 0.4621478319168091}]}, {'63.png': []}, {'60.png': []}, {'7.png': []}, {'91.png': []}, {'71.png': [{'category_id': 2, 'bbox': [116.2231674194336, 156.55174255371094, 39.835914611816406, 34.575836181640625], 'area': 1377.3600577639882, 'iscrowd': 0, 'score': 0.28209322690963745}]}, {'54.png': []}, {'61.png': [{'category_id': 1, 'bbox': [162.65049743652344, 32.24998092651367, 28.676223754882812, 46.46525955200195], 'area': 1332.448179741914, 'iscrowd': 0, 'score': 0.3702806830406189}]}, {'67.png': []}, {'47.png': []}, {'15.png': [{'category_id': 2, 'bbox': [239.67098999023438, 52.437110900878906, 41.602020263671875, 36.334739685058594], 'area': 1511.5985766530503, 'iscrowd': 0, 'score': 0.4141892194747925}]}, {'41.png': [{'category_id': 2, 'bbox': [176.78184509277344, 182.23760986328125, 44.89263916015625, 39.39543151855469], 'area': 1768.564891721122, 'iscrowd': 0, 'score': 0.5122777223587036}]}, {'92.png': []}, {'44.png': [{'category_id': 2, 'bbox': [72.23949432373047, 244.91317749023438, 42.879432678222656, 43.69970703125], 'area': 1873.8186457045376, 'iscrowd': 0, 'score': 0.49187156558036804}]}, {'94.png': []}, {'5.png': []}, {'80.png': []}, {'85.png': []}, {'4.png': [{'category_id': 2, 'bbox': [120.52671813964844, 159.70941162109375, 41.58671569824219, 46.9268798828125], 'area': 1951.534812292084, 'iscrowd': 0, 'score': 0.3688421845436096}]}, {'96.png': []}, {'88.png': []}, {'11.png': []}, {'40.png': []}, {'69.png': [{'category_id': 2, 'bbox': [94.79696655273438, 170.20692443847656, 50.76220703125, 51.12968444824219], 'area': 2595.4556274041533, 'iscrowd': 0, 'score': 0.31696584820747375}]}, {'6.png': [{'category_id': 2, 'bbox': [29.867534637451172, 140.296875, 49.5589714050293, 47.301971435546875], 'area': 2344.23704977578, 'iscrowd': 0, 'score': 0.4115096628665924}]}, {'65.png': [{'category_id': 2, 'bbox': [201.6232452392578, 200.9598388671875, 44.87451171875, 30.996322631835938], 'area': 1390.9448431804776, 'iscrowd': 0, 'score': 0.4535251557826996}]}, {'30.png': []}, {'18.png': [{'category_id': 2, 'bbox': [163.74658203125, 88.21577453613281, 45.591949462890625, 46.23143005371094], 'area': 2107.781022605952, 'iscrowd': 0, 'score': 0.3151126205921173}]}, {'2.png': []}, {'14.png': []}, {'8.png': []}, {'38.png': [{'category_id': 1, 'bbox': [88.44695281982422, 245.02532958984375, 35.15911102294922, 43.525665283203125], 'area': 1530.3236980398651, 'iscrowd': 0, 'score': 0.30850347876548767}]}], draw_dir=PosixPath('hubs/detector/inferences/draws'))"
      ]
     },
     "execution_count": 2,
     "metadata": {},
     "output_type": "execute_result"
    }
   ],
   "source": [
    "hub.inference(\"datasets/sample_dataset/raw\", draw=True)"
   ]
  },
  {
   "cell_type": "code",
   "execution_count": 4,
   "metadata": {},
   "outputs": [],
   "source": [
    "import PIL.Image\n",
    "\n",
    "results = list(hub.draw_dir.iterdir())\n"
   ]
  },
  {
   "cell_type": "code",
   "execution_count": 5,
   "metadata": {},
   "outputs": [
    {
     "data": {
      "image/png": "[encoded data removed]",
      "text/plain": [
       "<PIL.PngImagePlugin.PngImageFile image mode=RGB size=300x300>"
      ]
     },
     "execution_count": 5,
     "metadata": {},
     "output_type": "execute_result"
    }
   ],
   "source": [
    "PIL.Image.open(results[0])"
   ]
  },
  {
   "cell_type": "code",
   "execution_count": 6,
   "metadata": {},
   "outputs": [
    {
     "data": {
      "image/png": "[encoded data removed]",
      "text/plain": [
       "<PIL.PngImagePlugin.PngImageFile image mode=RGB size=300x300>"
      ]
     },
     "execution_count": 6,
     "metadata": {},
     "output_type": "execute_result"
    }
   ],
   "source": [
    "PIL.Image.open(results[1])"
   ]
  },
  {
   "cell_type": "code",
   "execution_count": null,
   "metadata": {},
   "outputs": [],
   "source": []
  }
 ],
 "metadata": {
  "kernelspec": {
   "display_name": "waffle",
   "language": "python",
   "name": "python3"
  },
  "language_info": {
   "codemirror_mode": {
    "name": "ipython",
    "version": 3
   },
   "file_extension": ".py",
   "mimetype": "text/x-python",
   "name": "python",
   "nbconvert_exporter": "python",
   "pygments_lexer": "ipython3",
   "version": "3.9.16"
  },
  "orig_nbformat": 4
 },
 "nbformat": 4,
 "nbformat_minor": 2
}
