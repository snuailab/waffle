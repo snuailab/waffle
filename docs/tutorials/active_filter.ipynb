{
 "cells": [
  {
   "attachments": {},
   "cell_type": "markdown",
   "metadata": {},
   "source": [
    "## Active Sampling with hub\n",
    "Active Learning is a data sampling technique that allows you to select the most informative samples from a large unlabeled dataset. This is done by training a model on a small subset of labeled data and then using the model to predict the labels of the unlabeled data. The samples with the highest prediction uncertainty are then selected for labeling. This process is repeated until the model is trained on all the data. The model is then retrained on the entire dataset. This process is called active learning. <br />\n",
    "\n",
    "You can get more information about active learning from our [Blog Post](https://blog.snuailab.ai/active-flow-part-1-active-learning-intro-166b24582ffc). <br />\n",
    "\n",
    "This is our private feature. If you want to use it, please contact us. <br />"
   ]
  },
  {
   "attachments": {},
   "cell_type": "markdown",
   "metadata": {},
   "source": [
    "## Load trained Hub\n",
    "To use active learning, you need to load the trained hub."
   ]
  },
  {
   "cell_type": "code",
   "execution_count": 1,
   "metadata": {},
   "outputs": [
    {
     "name": "stderr",
     "output_type": "stream",
     "text": [
      "/home/lhj/anaconda3/envs/waffle/lib/python3.9/site-packages/tqdm/auto.py:21: TqdmWarning: IProgress not found. Please update jupyter and ipywidgets. See https://ipywidgets.readthedocs.io/en/stable/user_install.html\n",
      "  from .autonotebook import tqdm as notebook_tqdm\n",
      "/home/lhj/anaconda3/envs/waffle/lib/python3.9/site-packages/waffle_hub/__init__.py:16: UserWarning: \n",
      "            torch 1.13.1+cu117 has not been tested.\n",
      "            We recommend you to use one of ['1.13.1']\n",
      "            \n",
      "  warnings.warn(\n",
      "/home/lhj/anaconda3/envs/waffle/lib/python3.9/site-packages/waffle_hub/__init__.py:56: UserWarning: \n",
      "                ultralytics 8.0.91 has not been tested.\n",
      "                We recommend you to use one of ['8.0.87']\n",
      "                \n",
      "  warnings.warn(\n"
     ]
    }
   ],
   "source": [
    "from waffle_hub.hub.adapter.ultralytics import UltralyticsHub\n",
    "\n",
    "hub = UltralyticsHub.load(\"ultralytics_mnist_detection\")"
   ]
  },
  {
   "attachments": {},
   "cell_type": "markdown",
   "metadata": {},
   "source": [
    "## Import Sampling Methods\n",
    "This tutorial uses the following sampling methods: <br />\n",
    "- Random Sampling\n",
    "- [PL2N Sampling](https://arxiv.org/abs/2303.08978)"
   ]
  },
  {
   "cell_type": "code",
   "execution_count": 1,
   "metadata": {},
   "outputs": [
    {
     "name": "stderr",
     "output_type": "stream",
     "text": [
      "/home/lhj/anaconda3/envs/waffle/lib/python3.9/site-packages/tqdm/auto.py:21: TqdmWarning: IProgress not found. Please update jupyter and ipywidgets. See https://ipywidgets.readthedocs.io/en/stable/user_install.html\n",
      "  from .autonotebook import tqdm as notebook_tqdm\n",
      "/home/lhj/anaconda3/envs/waffle/lib/python3.9/site-packages/waffle_hub/__init__.py:16: UserWarning: \n",
      "            torch 1.13.1+cu117 has not been tested.\n",
      "            We recommend you to use one of ['1.13.1']\n",
      "            \n",
      "  warnings.warn(\n"
     ]
    }
   ],
   "source": [
    "from waffle_menu.active_learning import RandomSampling, PL2NSampling"
   ]
  },
  {
   "cell_type": "code",
   "execution_count": 3,
   "metadata": {},
   "outputs": [
    {
     "name": "stderr",
     "output_type": "stream",
     "text": [
      "4it [00:00, 91.17it/s]\n"
     ]
    },
    {
     "data": {
      "text/plain": [
       "<waffle_menu.active_learning.active_learning.ActiveLearningCallback at 0x7fc993964430>"
      ]
     },
     "execution_count": 3,
     "metadata": {},
     "output_type": "execute_result"
    }
   ],
   "source": [
    "RandomSampling(\n",
    "    seed=1234\n",
    ").sample(\n",
    "    image_dir=\"mnist/images\",\n",
    "    num_images=5,\n",
    "    result_dir=\"random_sampled\",\n",
    "    save_images=True\n",
    ")"
   ]
  },
  {
   "cell_type": "code",
   "execution_count": 4,
   "metadata": {},
   "outputs": [
    {
     "name": "stderr",
     "output_type": "stream",
     "text": [
      "4it [00:00,  7.69it/s]\n"
     ]
    },
    {
     "data": {
      "text/plain": [
       "<waffle_menu.active_learning.active_learning.ActiveLearningCallback at 0x7fc99392e880>"
      ]
     },
     "execution_count": 4,
     "metadata": {},
     "output_type": "execute_result"
    }
   ],
   "source": [
    "PL2NSampling(\n",
    "    hub=hub\n",
    ").sample(\n",
    "    image_dir=\"mnist/images\",\n",
    "    num_images=5,\n",
    "    result_dir=\"PL2N_sampled\",\n",
    "    save_images=True\n",
    ")"
   ]
  },
  {
   "cell_type": "code",
   "execution_count": 5,
   "metadata": {},
   "outputs": [],
   "source": [
    "import PIL.Image\n",
    "from pathlib import Path"
   ]
  },
  {
   "cell_type": "code",
   "execution_count": 6,
   "metadata": {},
   "outputs": [],
   "source": [
    "# display n images in a row with PIL\n",
    "def display_images(images):\n",
    "    images = [PIL.Image.open(image) for image in images]\n",
    "    widths, heights = zip(*(i.size for i in images))\n",
    "    total_width = sum(widths)\n",
    "    max_height = max(heights)\n",
    "    new_im = PIL.Image.new(\"RGB\", (total_width, max_height))\n",
    "    x_offset = 0\n",
    "    for im in images:\n",
    "        new_im.paste(im, (x_offset, 0))\n",
    "        x_offset += im.size[0]\n",
    "    return new_im"
   ]
  },
  {
   "cell_type": "code",
   "execution_count": 7,
   "metadata": {},
   "outputs": [
    {
     "data": {
      "image/png": "[encoded data removed]",
      "text/plain": [
       "<PIL.Image.Image image mode=RGB size=1500x300>"
      ]
     },
     "execution_count": 7,
     "metadata": {},
     "output_type": "execute_result"
    }
   ],
   "source": [
    "display_images(list(Path(\"random_sampled/images\").glob(\"*.png\")))"
   ]
  },
  {
   "cell_type": "code",
   "execution_count": 8,
   "metadata": {},
   "outputs": [
    {
     "data": {
      "image/png": "[encoded data removed]",
      "text/plain": [
       "<PIL.Image.Image image mode=RGB size=1500x300>"
      ]
     },
     "execution_count": 8,
     "metadata": {},
     "output_type": "execute_result"
    }
   ],
   "source": [
    "display_images(list(Path(\"PL2N_sampled/images\").glob(\"*.png\")))"
   ]
  },
  {
   "cell_type": "code",
   "execution_count": null,
   "metadata": {},
   "outputs": [],
   "source": []
  }
 ],
 "metadata": {
  "kernelspec": {
   "display_name": "waffle",
   "language": "python",
   "name": "python3"
  },
  "language_info": {
   "codemirror_mode": {
    "name": "ipython",
    "version": 3
   },
   "file_extension": ".py",
   "mimetype": "text/x-python",
   "name": "python",
   "nbconvert_exporter": "python",
   "pygments_lexer": "ipython3",
   "version": "3.9.16"
  },
  "orig_nbformat": 4
 },
 "nbformat": 4,
 "nbformat_minor": 2
}
