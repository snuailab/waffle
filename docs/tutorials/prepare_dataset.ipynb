{
 "cells": [
  {
   "attachments": {},
   "cell_type": "markdown",
   "metadata": {},
   "source": [
    "## Download Sample dataset\n",
    "We provide sample dataset for this tutorial. You can download it from [asset](https://github.com/snuailab/assets). <br />\n",
    "This dataset can be used for `Classification`, `Object Detection`, `Semantic Segmentation`, `Instance Segmentation` tasks."
   ]
  },
  {
   "cell_type": "code",
   "execution_count": 1,
   "metadata": {},
   "outputs": [
    {
     "name": "stdout",
     "output_type": "stream",
     "text": [
      "--2023-05-03 11:30:31--  https://github.com/snuailab/assets/raw/main/waffle/sample_dataset/mnist.zip\n",
      "Resolving github.com (github.com)... 20.200.245.247\n",
      "Connecting to github.com (github.com)|20.200.245.247|:443... connected.\n",
      "HTTP request sent, awaiting response... 302 Found\n",
      "Location: https://raw.githubusercontent.com/snuailab/assets/main/waffle/sample_dataset/mnist.zip [following]\n",
      "--2023-05-03 11:30:31--  https://raw.githubusercontent.com/snuailab/assets/main/waffle/sample_dataset/mnist.zip\n",
      "Resolving raw.githubusercontent.com (raw.githubusercontent.com)... 185.199.111.133, 185.199.109.133, 185.199.108.133, ...\n",
      "Connecting to raw.githubusercontent.com (raw.githubusercontent.com)|185.199.111.133|:443... connected.\n",
      "HTTP request sent, awaiting response... 200 OK\n",
      "Length: 157823 (154K) [application/zip]\n",
      "Saving to: ‘mnist.zip’\n",
      "\n",
      "mnist.zip           100%[===================>] 154.12K  --.-KB/s    in 0.02s   \n",
      "\n",
      "2023-05-03 11:30:32 (9.02 MB/s) - ‘mnist.zip’ saved [157823/157823]\n",
      "\n"
     ]
    }
   ],
   "source": [
    "! wget https://github.com/snuailab/assets/raw/main/waffle/sample_dataset/mnist.zip"
   ]
  },
  {
   "cell_type": "code",
   "execution_count": 2,
   "metadata": {},
   "outputs": [
    {
     "name": "stdout",
     "output_type": "stream",
     "text": [
      "Archive:  mnist.zip\n",
      "  inflating: mnist/coco.json         \n",
      "   creating: mnist/images/\n",
      "  inflating: mnist/images/1.png      \n",
      "  inflating: mnist/images/10.png     \n",
      "  inflating: mnist/images/100.png    \n",
      "  inflating: mnist/images/11.png     \n",
      "  inflating: mnist/images/12.png     \n",
      "  inflating: mnist/images/13.png     \n",
      "  inflating: mnist/images/14.png     \n",
      "  inflating: mnist/images/15.png     \n",
      "  inflating: mnist/images/16.png     \n",
      "  inflating: mnist/images/17.png     \n",
      "  inflating: mnist/images/18.png     \n",
      "  inflating: mnist/images/19.png     \n",
      "  inflating: mnist/images/2.png      \n",
      "  inflating: mnist/images/20.png     \n",
      "  inflating: mnist/images/21.png     \n",
      "  inflating: mnist/images/22.png     \n",
      "  inflating: mnist/images/23.png     \n",
      "  inflating: mnist/images/24.png     \n",
      "  inflating: mnist/images/25.png     \n",
      "  inflating: mnist/images/26.png     \n",
      "  inflating: mnist/images/27.png     \n",
      "  inflating: mnist/images/28.png     \n",
      "  inflating: mnist/images/29.png     \n",
      "  inflating: mnist/images/3.png      \n",
      "  inflating: mnist/images/30.png     \n",
      "  inflating: mnist/images/31.png     \n",
      "  inflating: mnist/images/32.png     \n",
      "  inflating: mnist/images/33.png     \n",
      "  inflating: mnist/images/34.png     \n",
      "  inflating: mnist/images/35.png     \n",
      "  inflating: mnist/images/36.png     \n",
      "  inflating: mnist/images/37.png     \n",
      "  inflating: mnist/images/38.png     \n",
      "  inflating: mnist/images/39.png     \n",
      "  inflating: mnist/images/4.png      \n",
      "  inflating: mnist/images/40.png     \n",
      "  inflating: mnist/images/41.png     \n",
      "  inflating: mnist/images/42.png     \n",
      "  inflating: mnist/images/43.png     \n",
      "  inflating: mnist/images/44.png     \n",
      "  inflating: mnist/images/45.png     \n",
      "  inflating: mnist/images/46.png     \n",
      "  inflating: mnist/images/47.png     \n",
      "  inflating: mnist/images/48.png     \n",
      "  inflating: mnist/images/49.png     \n",
      "  inflating: mnist/images/5.png      \n",
      "  inflating: mnist/images/50.png     \n",
      "  inflating: mnist/images/51.png     \n",
      "  inflating: mnist/images/52.png     \n",
      "  inflating: mnist/images/53.png     \n",
      "  inflating: mnist/images/54.png     \n",
      "  inflating: mnist/images/55.png     \n",
      "  inflating: mnist/images/56.png     \n",
      "  inflating: mnist/images/57.png     \n",
      "  inflating: mnist/images/58.png     \n",
      "  inflating: mnist/images/59.png     \n",
      "  inflating: mnist/images/6.png      \n",
      "  inflating: mnist/images/60.png     \n",
      "  inflating: mnist/images/61.png     \n",
      "  inflating: mnist/images/62.png     \n",
      "  inflating: mnist/images/63.png     \n",
      "  inflating: mnist/images/64.png     \n",
      "  inflating: mnist/images/65.png     \n",
      "  inflating: mnist/images/66.png     \n",
      "  inflating: mnist/images/67.png     \n",
      "  inflating: mnist/images/68.png     \n",
      "  inflating: mnist/images/69.png     \n",
      "  inflating: mnist/images/7.png      \n",
      "  inflating: mnist/images/70.png     \n",
      "  inflating: mnist/images/71.png     \n",
      "  inflating: mnist/images/72.png     \n",
      "  inflating: mnist/images/73.png     \n",
      "  inflating: mnist/images/74.png     \n",
      "  inflating: mnist/images/75.png     \n",
      "  inflating: mnist/images/76.png     \n",
      "  inflating: mnist/images/77.png     \n",
      "  inflating: mnist/images/78.png     \n",
      "  inflating: mnist/images/79.png     \n",
      "  inflating: mnist/images/8.png      \n",
      "  inflating: mnist/images/80.png     \n",
      "  inflating: mnist/images/81.png     \n",
      "  inflating: mnist/images/82.png     \n",
      "  inflating: mnist/images/83.png     \n",
      "  inflating: mnist/images/84.png     \n",
      "  inflating: mnist/images/85.png     \n",
      "  inflating: mnist/images/86.png     \n",
      "  inflating: mnist/images/87.png     \n",
      "  inflating: mnist/images/88.png     \n",
      "  inflating: mnist/images/89.png     \n",
      "  inflating: mnist/images/9.png      \n",
      "  inflating: mnist/images/90.png     \n",
      "  inflating: mnist/images/91.png     \n",
      "  inflating: mnist/images/92.png     \n",
      "  inflating: mnist/images/93.png     \n",
      "  inflating: mnist/images/94.png     \n",
      "  inflating: mnist/images/95.png     \n",
      "  inflating: mnist/images/96.png     \n",
      "  inflating: mnist/images/97.png     \n",
      "  inflating: mnist/images/98.png     \n",
      "  inflating: mnist/images/99.png     \n",
      "  inflating: mnist/test.json         \n",
      "  inflating: mnist/train.json        \n",
      "  inflating: mnist/val.json          \n"
     ]
    }
   ],
   "source": [
    "! unzip mnist.zip -d mnist"
   ]
  },
  {
   "attachments": {},
   "cell_type": "markdown",
   "metadata": {},
   "source": [
    "## Convert to Waffle Dataset\n",
    "You can create `Waffle Dataset` from `COCO`, `YOLO`, `HuggingFace` format."
   ]
  },
  {
   "cell_type": "code",
   "execution_count": 4,
   "metadata": {},
   "outputs": [
    {
     "name": "stdout",
     "output_type": "stream",
     "text": [
      "loading annotations into memory...\n",
      "Done (t=0.00s)\n",
      "creating index...\n",
      "index created!\n"
     ]
    },
    {
     "name": "stderr",
     "output_type": "stream",
     "text": [
      "1it [00:00, 17.83it/s]:   0%|          | 0/100 [00:00<?, ?it/s]\n",
      "Importing coco dataset: 100%|██████████| 100/100 [00:00<00:00, 1643.59it/s]\n"
     ]
    }
   ],
   "source": [
    "from waffle_hub.dataset import Dataset\n",
    "from waffle_hub import TaskType\n",
    "\n",
    "dataset = Dataset.from_coco(\n",
    "    name='mnist_det',\n",
    "    task=TaskType.OBJECT_DETECTION,\n",
    "    coco_file=\"./mnist/coco.json\",\n",
    "    coco_root_dir=\"./mnist/images\",\n",
    ")"
   ]
  },
  {
   "attachments": {},
   "cell_type": "markdown",
   "metadata": {},
   "source": [
    "`Dataset` instance provides several useful properties and methods. See [Dataset Documentation](https://research.snuailab.ai/waffle/waffle_hub/dataset/dataset/) for more details."
   ]
  },
  {
   "cell_type": "code",
   "execution_count": null,
   "metadata": {},
   "outputs": [
    {
     "data": {
      "text/plain": [
       "['1', '2']"
      ]
     },
     "execution_count": 5,
     "metadata": {},
     "output_type": "execute_result"
    }
   ],
   "source": [
    "dataset.category_names"
   ]
  },
  {
   "attachments": {},
   "cell_type": "markdown",
   "metadata": {},
   "source": [
    "## Split Dataset"
   ]
  },
  {
   "cell_type": "code",
   "execution_count": 6,
   "metadata": {},
   "outputs": [
    {
     "data": {
      "text/plain": [
       "[PosixPath('datasets/mnist_det/sets/test.json'),\n",
       " PosixPath('datasets/mnist_det/sets/val.json'),\n",
       " PosixPath('datasets/mnist_det/sets/train.json'),\n",
       " PosixPath('datasets/mnist_det/sets/unlabeled.json')]"
      ]
     },
     "execution_count": 6,
     "metadata": {},
     "output_type": "execute_result"
    }
   ],
   "source": [
    "dataset.split(\n",
    "    train_ratio=0.8,\n",
    "    val_ratio=0.1,\n",
    "    test_ratio=0.1,\n",
    ")\n",
    "list(dataset.set_dir.iterdir())"
   ]
  },
  {
   "attachments": {},
   "cell_type": "markdown",
   "metadata": {},
   "source": [
    "## Export Dataset to other formats\n",
    "After splitting dataset, you can export dataset to other formats. <br />\n",
    "The returned value of `Dataset.export()` can be used in training `Hub` directly."
   ]
  },
  {
   "cell_type": "code",
   "execution_count": 7,
   "metadata": {},
   "outputs": [
    {
     "data": {
      "text/plain": [
       "'datasets/mnist_det/exports/YOLO'"
      ]
     },
     "execution_count": 7,
     "metadata": {},
     "output_type": "execute_result"
    }
   ],
   "source": [
    "from waffle_hub import DataType\n",
    "\n",
    "export_dir = dataset.export(DataType.YOLO)\n",
    "export_dir"
   ]
  },
  {
   "cell_type": "code",
   "execution_count": 8,
   "metadata": {},
   "outputs": [
    {
     "name": "stdout",
     "output_type": "stream",
     "text": [
      "Downloading and preparing dataset generator/default to /home/lhj/.cache/huggingface/datasets/generator/default-f529974887995952/0.0.0...\n"
     ]
    },
    {
     "name": "stderr",
     "output_type": "stream",
     "text": [
      "                                                              \r"
     ]
    },
    {
     "name": "stdout",
     "output_type": "stream",
     "text": [
      "Dataset generator downloaded and prepared to /home/lhj/.cache/huggingface/datasets/generator/default-f529974887995952/0.0.0. Subsequent calls will reuse this data.\n",
      "Downloading and preparing dataset generator/default to /home/lhj/.cache/huggingface/datasets/generator/default-0e082ffb6d530bbe/0.0.0...\n"
     ]
    },
    {
     "name": "stderr",
     "output_type": "stream",
     "text": [
      "                                                        \r"
     ]
    },
    {
     "name": "stdout",
     "output_type": "stream",
     "text": [
      "Dataset generator downloaded and prepared to /home/lhj/.cache/huggingface/datasets/generator/default-0e082ffb6d530bbe/0.0.0. Subsequent calls will reuse this data.\n",
      "Downloading and preparing dataset generator/default to /home/lhj/.cache/huggingface/datasets/generator/default-f67a2a27d69a518b/0.0.0...\n"
     ]
    },
    {
     "name": "stderr",
     "output_type": "stream",
     "text": [
      "                                                        \r"
     ]
    },
    {
     "name": "stdout",
     "output_type": "stream",
     "text": [
      "Dataset generator downloaded and prepared to /home/lhj/.cache/huggingface/datasets/generator/default-f67a2a27d69a518b/0.0.0. Subsequent calls will reuse this data.\n"
     ]
    },
    {
     "name": "stderr",
     "output_type": "stream",
     "text": [
      "                                                                                          \r"
     ]
    },
    {
     "data": {
      "text/plain": [
       "'datasets/mnist_det/exports/HUGGINGFACE'"
      ]
     },
     "execution_count": 8,
     "metadata": {},
     "output_type": "execute_result"
    }
   ],
   "source": [
    "export_dir = dataset.export(DataType.HUGGINGFACE)\n",
    "export_dir"
   ]
  },
  {
   "cell_type": "code",
   "execution_count": null,
   "metadata": {},
   "outputs": [],
   "source": []
  }
 ],
 "metadata": {
  "kernelspec": {
   "display_name": "waffle",
   "language": "python",
   "name": "python3"
  },
  "language_info": {
   "codemirror_mode": {
    "name": "ipython",
    "version": 3
   },
   "file_extension": ".py",
   "mimetype": "text/x-python",
   "name": "python",
   "nbconvert_exporter": "python",
   "pygments_lexer": "ipython3",
   "version": "3.9.16"
  },
  "orig_nbformat": 4
 },
 "nbformat": 4,
 "nbformat_minor": 2
}
