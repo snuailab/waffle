{
 "cells": [
  {
   "attachments": {},
   "cell_type": "markdown",
   "metadata": {},
   "source": [
    "## Import Your Dataset to Waffle Dataset\n",
    "You may have your own dataset such as coco, yolo, huggingface(transformers). You can simply import your dataset to Waffle Dataset using `from_{format}` function.\n",
    "\n",
    "We provide the sample dataset for this tutorial. Follow the below steps!"
   ]
  },
  {
   "attachments": {},
   "cell_type": "markdown",
   "metadata": {},
   "source": [
    "### COCO Format"
   ]
  },
  {
   "cell_type": "code",
   "execution_count": 1,
   "metadata": {
    "vscode": {
     "languageId": "shellscript"
    }
   },
   "outputs": [
    {
     "name": "stdout",
     "output_type": "stream",
     "text": [
      "--2023-06-26 13:23:48--  https://github.com/snuailab/assets/raw/main/waffle/sample_dataset/mnist.zip\n",
      "Resolving github.com (github.com)... 20.200.245.247\n",
      "Connecting to github.com (github.com)|20.200.245.247|:443... connected.\n",
      "HTTP request sent, awaiting response... 302 Found\n",
      "Location: https://raw.githubusercontent.com/snuailab/assets/main/waffle/sample_dataset/mnist.zip [following]\n",
      "--2023-06-26 13:23:48--  https://raw.githubusercontent.com/snuailab/assets/main/waffle/sample_dataset/mnist.zip\n",
      "Resolving raw.githubusercontent.com (raw.githubusercontent.com)... 185.199.110.133, 185.199.108.133, 185.199.109.133, ...\n",
      "Connecting to raw.githubusercontent.com (raw.githubusercontent.com)|185.199.110.133|:443... connected.\n",
      "HTTP request sent, awaiting response... 200 OK\n",
      "Length: 157823 (154K) [application/zip]\n",
      "Saving to: ‘mnist.zip’\n",
      "\n",
      "mnist.zip           100%[===================>] 154.12K  --.-KB/s    in 0.02s   \n",
      "\n",
      "2023-06-26 13:23:49 (8.20 MB/s) - ‘mnist.zip’ saved [157823/157823]\n",
      "\n",
      "Archive:  mnist.zip\n",
      "  inflating: coco/coco.json          \n",
      "   creating: coco/images/\n",
      "  inflating: coco/images/1.png       \n",
      "  inflating: coco/images/10.png      \n",
      "  inflating: coco/images/100.png     \n",
      "  inflating: coco/images/11.png      \n",
      "  inflating: coco/images/12.png      \n",
      "  inflating: coco/images/13.png      \n",
      "  inflating: coco/images/14.png      \n",
      "  inflating: coco/images/15.png      \n",
      "  inflating: coco/images/16.png      \n",
      "  inflating: coco/images/17.png      \n",
      "  inflating: coco/images/18.png      \n",
      "  inflating: coco/images/19.png      \n",
      "  inflating: coco/images/2.png       \n",
      "  inflating: coco/images/20.png      \n",
      "  inflating: coco/images/21.png      \n",
      "  inflating: coco/images/22.png      \n",
      "  inflating: coco/images/23.png      \n",
      "  inflating: coco/images/24.png      \n",
      "  inflating: coco/images/25.png      \n",
      "  inflating: coco/images/26.png      \n",
      "  inflating: coco/images/27.png      \n",
      "  inflating: coco/images/28.png      \n",
      "  inflating: coco/images/29.png      \n",
      "  inflating: coco/images/3.png       \n",
      "  inflating: coco/images/30.png      \n",
      "  inflating: coco/images/31.png      \n",
      "  inflating: coco/images/32.png      \n",
      "  inflating: coco/images/33.png      \n",
      "  inflating: coco/images/34.png      \n",
      "  inflating: coco/images/35.png      \n",
      "  inflating: coco/images/36.png      \n",
      "  inflating: coco/images/37.png      \n",
      "  inflating: coco/images/38.png      \n",
      "  inflating: coco/images/39.png      \n",
      "  inflating: coco/images/4.png       \n",
      "  inflating: coco/images/40.png      \n",
      "  inflating: coco/images/41.png      \n",
      "  inflating: coco/images/42.png      \n",
      "  inflating: coco/images/43.png      \n",
      "  inflating: coco/images/44.png      \n",
      "  inflating: coco/images/45.png      \n",
      "  inflating: coco/images/46.png      \n",
      "  inflating: coco/images/47.png      \n",
      "  inflating: coco/images/48.png      \n",
      "  inflating: coco/images/49.png      \n",
      "  inflating: coco/images/5.png       \n",
      "  inflating: coco/images/50.png      \n",
      "  inflating: coco/images/51.png      \n",
      "  inflating: coco/images/52.png      \n",
      "  inflating: coco/images/53.png      \n",
      "  inflating: coco/images/54.png      \n",
      "  inflating: coco/images/55.png      \n",
      "  inflating: coco/images/56.png      \n",
      "  inflating: coco/images/57.png      \n",
      "  inflating: coco/images/58.png      \n",
      "  inflating: coco/images/59.png      \n",
      "  inflating: coco/images/6.png       \n",
      "  inflating: coco/images/60.png      \n",
      "  inflating: coco/images/61.png      \n",
      "  inflating: coco/images/62.png      \n",
      "  inflating: coco/images/63.png      \n",
      "  inflating: coco/images/64.png      \n",
      "  inflating: coco/images/65.png      \n",
      "  inflating: coco/images/66.png      \n",
      "  inflating: coco/images/67.png      \n",
      "  inflating: coco/images/68.png      \n",
      "  inflating: coco/images/69.png      \n",
      "  inflating: coco/images/7.png       \n",
      "  inflating: coco/images/70.png      \n",
      "  inflating: coco/images/71.png      \n",
      "  inflating: coco/images/72.png      \n",
      "  inflating: coco/images/73.png      \n",
      "  inflating: coco/images/74.png      \n",
      "  inflating: coco/images/75.png      \n",
      "  inflating: coco/images/76.png      \n",
      "  inflating: coco/images/77.png      \n",
      "  inflating: coco/images/78.png      \n",
      "  inflating: coco/images/79.png      \n",
      "  inflating: coco/images/8.png       \n",
      "  inflating: coco/images/80.png      \n",
      "  inflating: coco/images/81.png      \n",
      "  inflating: coco/images/82.png      \n",
      "  inflating: coco/images/83.png      \n",
      "  inflating: coco/images/84.png      \n",
      "  inflating: coco/images/85.png      \n",
      "  inflating: coco/images/86.png      \n",
      "  inflating: coco/images/87.png      \n",
      "  inflating: coco/images/88.png      \n",
      "  inflating: coco/images/89.png      \n",
      "  inflating: coco/images/9.png       \n",
      "  inflating: coco/images/90.png      \n",
      "  inflating: coco/images/91.png      \n",
      "  inflating: coco/images/92.png      \n",
      "  inflating: coco/images/93.png      \n",
      "  inflating: coco/images/94.png      \n",
      "  inflating: coco/images/95.png      \n",
      "  inflating: coco/images/96.png      \n",
      "  inflating: coco/images/97.png      \n",
      "  inflating: coco/images/98.png      \n",
      "  inflating: coco/images/99.png      \n",
      "  inflating: coco/test.json          \n",
      "  inflating: coco/train.json         \n",
      "  inflating: coco/val.json           \n"
     ]
    }
   ],
   "source": [
    "!wget https://github.com/snuailab/assets/raw/main/waffle/sample_dataset/mnist.zip\n",
    "!unzip mnist.zip -d coco"
   ]
  },
  {
   "cell_type": "code",
   "execution_count": null,
   "metadata": {},
   "outputs": [
    {
     "name": "stdout",
     "output_type": "stream",
     "text": [
      "loading annotations into memory...\n",
      "Done (t=0.00s)\n",
      "creating index...\n",
      "index created!\n"
     ]
    },
    {
     "name": "stderr",
     "output_type": "stream",
     "text": [
      "1it [00:00, 52.54it/s]:   0%|          | 0/100 [00:00<?, ?it/s]\n",
      "Importing coco dataset: 100%|██████████| 100/100 [00:00<00:00, 5002.57it/s]\n"
     ]
    },
    {
     "data": {
      "text/plain": [
       "DatasetInfo(name='mnist_coco', task='OBJECT_DETECTION', created='2023-06-26 13:25:26')"
      ]
     },
     "metadata": {},
     "output_type": "display_data"
    }
   ],
   "source": [
    "from waffle_hub.dataset import Dataset\n",
    "\n",
    "Dataset.from_coco(\n",
    "    name=\"mnist_coco\",\n",
    "    task=\"object_detection\",\n",
    "    coco_file=\"coco/coco.json\",\n",
    "    coco_root_dir=\"coco/images\",\n",
    ")"
   ]
  },
  {
   "attachments": {},
   "cell_type": "markdown",
   "metadata": {},
   "source": [
    "### Transformers (Huggingface) Format"
   ]
  },
  {
   "cell_type": "code",
   "execution_count": 5,
   "metadata": {},
   "outputs": [
    {
     "name": "stdout",
     "output_type": "stream",
     "text": [
      "--2023-06-26 13:29:44--  https://github.com/snuailab/assets/raw/main/waffle/sample_dataset/mnist_huggingface_detection.zip\n",
      "Resolving github.com (github.com)... 20.200.245.247\n",
      "Connecting to github.com (github.com)|20.200.245.247|:443... connected.\n",
      "HTTP request sent, awaiting response... 302 Found\n",
      "Location: https://raw.githubusercontent.com/snuailab/assets/main/waffle/sample_dataset/mnist_huggingface_detection.zip [following]\n",
      "--2023-06-26 13:29:44--  https://raw.githubusercontent.com/snuailab/assets/main/waffle/sample_dataset/mnist_huggingface_detection.zip\n",
      "Resolving raw.githubusercontent.com (raw.githubusercontent.com)... 185.199.111.133, 185.199.109.133, 185.199.108.133, ...\n",
      "Connecting to raw.githubusercontent.com (raw.githubusercontent.com)|185.199.111.133|:443... connected.\n",
      "HTTP request sent, awaiting response... 200 OK\n",
      "Length: 226268 (221K) [application/zip]\n",
      "Saving to: ‘mnist_huggingface_detection.zip’\n",
      "\n",
      "mnist_huggingface_d 100%[===================>] 220.96K  --.-KB/s    in 0.03s   \n",
      "\n",
      "2023-06-26 13:29:45 (7.64 MB/s) - ‘mnist_huggingface_detection.zip’ saved [226268/226268]\n",
      "\n",
      "Archive:  mnist_huggingface_detection.zip\n",
      "  inflating: huggingface/dataset_dict.json  \n",
      "   creating: huggingface/test/\n",
      "  inflating: huggingface/test/data-00000-of-00001.arrow  \n",
      "  inflating: huggingface/test/dataset_info.json  \n",
      "  inflating: huggingface/test/state.json  \n",
      "   creating: huggingface/train/\n",
      "  inflating: huggingface/train/data-00000-of-00001.arrow  \n",
      "  inflating: huggingface/train/dataset_info.json  \n",
      "  inflating: huggingface/train/state.json  \n",
      "   creating: huggingface/val/\n",
      "  inflating: huggingface/val/data-00000-of-00001.arrow  \n",
      "  inflating: huggingface/val/dataset_info.json  \n",
      "  inflating: huggingface/val/state.json  \n"
     ]
    }
   ],
   "source": [
    "!wget https://github.com/snuailab/assets/raw/main/waffle/sample_dataset/mnist_huggingface_detection.zip\n",
    "!unzip mnist_huggingface_detection.zip -d huggingface"
   ]
  },
  {
   "cell_type": "code",
   "execution_count": 8,
   "metadata": {},
   "outputs": [
    {
     "data": {
      "text/plain": [
       "DatasetInfo(name='mnist_transformers', task='OBJECT_DETECTION', created='2023-06-26 13:30:30')"
      ]
     },
     "execution_count": 8,
     "metadata": {},
     "output_type": "execute_result"
    }
   ],
   "source": [
    "from waffle_hub.dataset import Dataset\n",
    "\n",
    "Dataset.from_transformers(\n",
    "    name=\"mnist_transformers\",\n",
    "    task=\"object_detection\",\n",
    "    dataset_dir=\"huggingface\"\n",
    ")"
   ]
  },
  {
   "attachments": {},
   "cell_type": "markdown",
   "metadata": {},
   "source": [
    "### YOLO Format (Comming Soon)"
   ]
  }
 ],
 "metadata": {
  "kernelspec": {
   "display_name": "waffle",
   "language": "python",
   "name": "python3"
  },
  "language_info": {
   "codemirror_mode": {
    "name": "ipython",
    "version": 3
   },
   "file_extension": ".py",
   "mimetype": "text/x-python",
   "name": "python",
   "nbconvert_exporter": "python",
   "pygments_lexer": "ipython3",
   "version": "3.9.16"
  },
  "orig_nbformat": 4
 },
 "nbformat": 4,
 "nbformat_minor": 2
}
